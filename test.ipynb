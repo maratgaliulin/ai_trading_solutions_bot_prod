{
 "cells": [
  {
   "cell_type": "code",
   "execution_count": 41,
   "metadata": {},
   "outputs": [],
   "source": [
    "import requests\n",
    "from urllib.request import urlopen\n",
    "from urllib.request import urlretrieve\n",
    "from bs4 import BeautifulSoup\n",
    "from datetime import datetime\n",
    "from PIL import Image\n",
    "import time\n",
    "import random\n",
    "import sqlite3\n",
    "from config import *"
   ]
  },
  {
   "cell_type": "code",
   "execution_count": 53,
   "metadata": {},
   "outputs": [],
   "source": [
    "def check_if_dates_are_equal() -> bool:\n",
    "    dt_format = '%Y-%m-%d'\n",
    "    conn = sqlite3.connect(db_directory)\n",
    "    cursor = conn.cursor()\n",
    "    created_at = cursor.execute(f'SELECT created_at FROM rbc_news WHERE id=0').fetchone()[0]\n",
    "    conn.commit()\n",
    "    today_s_date = datetime.now().strftime(format=dt_format)\n",
    "    print(created_at, today_s_date)\n",
    "    conn.close()\n",
    "    return created_at == today_s_date"
   ]
  },
  {
   "cell_type": "code",
   "execution_count": 54,
   "metadata": {},
   "outputs": [
    {
     "name": "stdout",
     "output_type": "stream",
     "text": [
      "2024-10-14 2024-10-14\n"
     ]
    },
    {
     "data": {
      "text/plain": [
       "True"
      ]
     },
     "execution_count": 54,
     "metadata": {},
     "output_type": "execute_result"
    }
   ],
   "source": [
    "check_if_dates_are_equal()"
   ]
  },
  {
   "cell_type": "code",
   "execution_count": 42,
   "metadata": {},
   "outputs": [],
   "source": [
    "def save_single_article(url:str) -> dict:\n",
    "    resp = urlopen(url)\n",
    "    parser = 'lxml'\n",
    "    bs = BeautifulSoup(resp.read(), parser)    \n",
    "    article_dict = {}\n",
    "    article_title_class = 'article__header__title-in js-slide-title'\n",
    "    article_overview_class = 'article__text__overview'\n",
    "    article_image_class = 'article__main-image__image'\n",
    "\n",
    "    article_title = bs.find_all('h1', {'class': article_title_class})[0].contents[0].split('\\n')[1].strip()\n",
    "    article_overview = bs.find_all('div', {'class': article_overview_class})[0].contents[1].contents[0].get_text().replace('«\\u200e', '')\n",
    "    article_image = bs.find_all('img', {'class': article_image_class})[0]['src']\n",
    "\n",
    "    dt_format = '%Y-%m-%d'\n",
    "    today = datetime.now().strftime(format=dt_format)\n",
    "\n",
    "    article_dict['title'] = article_title\n",
    "    article_dict['overview'] = article_overview\n",
    "    article_dict['link'] = url\n",
    "    article_dict['created_at'] = today\n",
    "    article_dict['image_url'] = article_image\n",
    "\n",
    "    return article_dict"
   ]
  },
  {
   "cell_type": "code",
   "execution_count": 43,
   "metadata": {},
   "outputs": [],
   "source": [
    "def save_the_image(img_list:list):\n",
    "    img_dir = 'images/'\n",
    "    img_name = img_list[0]\n",
    "    img_url = img_list[1]\n",
    "    urlretrieve(img_url, f\"{img_dir}{img_name}.jpeg\")"
   ]
  },
  {
   "cell_type": "code",
   "execution_count": 44,
   "metadata": {},
   "outputs": [],
   "source": [
    "def rbc_news_parser():\n",
    "    txt_file_directory = './database/article_links.txt'\n",
    "    url = 'https://www.rbc.ru/quote'    \n",
    "    articles_list = []\n",
    "    article_links = []\n",
    "    all_attrs = []\n",
    "    article_ids_list =  []\n",
    "    resp = urlopen(url)\n",
    "    parser = 'lxml'\n",
    "    bs = BeautifulSoup(resp.read(), parser)    \n",
    "    all_hrefs = list(bs.find_all('a'))\n",
    "    for ref in all_hrefs:\n",
    "        if ref.has_attr('href'):\n",
    "            all_attrs.append(ref.attrs['href'])\n",
    "    for a in all_attrs:\n",
    "        if ('quote/news/article' in a) and ('?from=newsfeed' not in a):\n",
    "            article_links.append(a)\n",
    "    article_links = set(article_links)\n",
    "    # article_links = list(article_links)[:3]\n",
    "\n",
    "    with open(txt_file_directory, 'r') as f:\n",
    "        lines = f.readlines()\n",
    "        set_from_file = set(lines[0].strip(',').split(','))\n",
    "        # set_from_file = list(set_from_file)[:3]\n",
    "    print(article_links)\n",
    "    print(set_from_file)\n",
    "    print(article_links == set_from_file)\n",
    "        \n",
    "    if(article_links != set_from_file):\n",
    "        with open(txt_file_directory, 'w') as f:\n",
    "            for el in article_links:\n",
    "                f.writelines(el + ',')\n",
    "\n",
    "        for lnk in article_links:\n",
    "            random_no = random.randint(29, 61)\n",
    "            single_article = save_single_article(lnk)\n",
    "            articles_list.append(single_article)\n",
    "            print(single_article, random_no)\n",
    "            time.sleep(random_no)\n",
    "            # print('It is done!')\n",
    "        # print(set_from_file)\n",
    "\n",
    "        conn = sqlite3.connect(db_directory)\n",
    "        cursor = conn.cursor()\n",
    "        cursor.execute(\"DELETE FROM rbc_news\")\n",
    "        conn.commit()\n",
    "        \n",
    "        for i, article in enumerate(articles_list):\n",
    "            cursor.execute(f\"INSERT INTO rbc_news (id, title, overview, link, created_at, image) VALUES ({i}, '{article['title']}', '{article['overview']}', '{article['link']}', '{article['created_at']}', '{article['image_url']}')\")\n",
    "            print(i)\n",
    "        conn.commit()\n",
    "        conn.close()\n",
    "\n",
    "    conn = sqlite3.connect(db_directory)\n",
    "    cursor = conn.cursor()\n",
    "\n",
    "    article_ids = cursor.execute(f'SELECT id, image FROM rbc_news').fetchall()\n",
    "    \n",
    "    for art_id in article_ids:\n",
    "        article_ids_list.append([art_id[0], art_id[1]])\n",
    "    conn.commit()\n",
    "    conn.close()\n",
    "    \n",
    "    for item in article_ids_list:\n",
    "        save_the_image(item)\n",
    "        random_no = random.randint(29, 61)\n",
    "        time.sleep(random_no)\n",
    "        print(item, random_no)\n",
    "    print('It is done!')\n",
    "\n"
   ]
  },
  {
   "cell_type": "code",
   "execution_count": 45,
   "metadata": {},
   "outputs": [
    {
     "name": "stdout",
     "output_type": "stream",
     "text": [
      "{'https://www.rbc.ru/quote/news/article/6708f5499a79474749d9ab91', 'https://www.rbc.ru/quote/news/article/6708dba99a79471372349c78', 'https://www.rbc.ru/quote/news/article/65b213f69a79477264ef7caf', 'https://www.rbc.ru/quote/news/article/670501e99a7947345c04dbfc', 'https://www.rbc.ru/quote/news/article/67094deb9a79479345ff47fb', 'https://www.rbc.ru/quote/news/article/6700001b9a794773e9ff88f3', 'https://www.rbc.ru/quote/news/article/6709122d9a7947b5fed3e8c6', 'https://www.rbc.ru/quote/news/article/6707b4f29a79470d1fa33322', 'https://www.rbc.ru/quote/news/article/6708e69c9a794716fef1e6be', 'https://www.rbc.ru/quote/news/article/6708b35e9a7947438eec790c', 'https://www.rbc.ru/quote/news/article/6706cde69a7947312477206f', 'https://www.rbc.ru/quote/news/article/670938189a794737dfcd2b7e', 'https://www.rbc.ru/quote/news/article/67077d859a79470f30570dd8', 'https://www.rbc.ru/quote/news/article/6708ffe19a79474a63fdd91b', 'https://www.rbc.ru/quote/news/article/6703d4379a79472bd287829a', 'https://www.rbc.ru/quote/news/article/6707722c9a794777e0b14d44'}\n",
      "{'https://www.rbc.ru/quote/news/article/65b213f69a79477264ef7caf', 'https://www.rbc.ru/quote/news/article/6708dba99a79471372349c78', 'https://www.rbc.ru/quote/news/article/6708f5499a79474749d9ab91'}\n",
      "False\n",
      "[0, 'https://s0.rbk.ru/v6_top_pics/media/img/6/89/347286413605896.jpeg'] 32\n",
      "[1, 'https://s0.rbk.ru/v6_top_pics/media/img/3/14/347286352014143.jpeg'] 57\n",
      "[2, 'https://s0.rbk.ru/v6_top_pics/media/img/9/97/347062550170979.jpeg'] 42\n",
      "It is done!\n"
     ]
    }
   ],
   "source": [
    "\n",
    "\n",
    "rbc_news_parser()\n"
   ]
  }
 ],
 "metadata": {
  "kernelspec": {
   "display_name": "myenv",
   "language": "python",
   "name": "python3"
  },
  "language_info": {
   "codemirror_mode": {
    "name": "ipython",
    "version": 3
   },
   "file_extension": ".py",
   "mimetype": "text/x-python",
   "name": "python",
   "nbconvert_exporter": "python",
   "pygments_lexer": "ipython3",
   "version": "3.10.11"
  }
 },
 "nbformat": 4,
 "nbformat_minor": 2
}
